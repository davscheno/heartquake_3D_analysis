{
  "cells": [
    {
      "metadata": {
        "scrolled": false,
        "trusted": true
      },
      "cell_type": "code",
      "source": "# IMPORTANTE ATTENZIONE OCCORRE CONVERTIRE IL FILE DIINGRESSO DEI PUNTI\n# IN COORDINATE PIANE METRICHE \n\nimport pandas as pd\nimport numpy as np\nimport scipy.linalg\nfrom mpl_toolkits.mplot3d import Axes3D\nimport matplotlib.pyplot as plt\nimport datetime\nfrom sklearn.cluster import DBSCAN\nimport mplstereonet\nfrom geopandas import GeoDataFrame\nfrom shapely.geometry import Point\nimport glob\nimport os\n\n# Import plotly package\nimport plotly\nplotly.tools.set_credentials_file(username='davide.schenone', api_key='WBSgVI0FXgSIRecK2cHU')\nimport plotly.graph_objs as go\n\n#from mpl_toolkits.basemap import pyproj\n#from mpl_toolkits.basemap import Basemap\nfrom pyproj import Proj, transform\n",
      "execution_count": 2,
      "outputs": [
        {
          "output_type": "error",
          "ename": "ImportError",
          "evalue": "No module named mplstereonet",
          "traceback": [
            "\u001b[0;31m\u001b[0m",
            "\u001b[0;31mImportError\u001b[0mTraceback (most recent call last)",
            "\u001b[0;32m<ipython-input-2-10ab167e8b39>\u001b[0m in \u001b[0;36m<module>\u001b[0;34m()\u001b[0m\n\u001b[1;32m      9\u001b[0m \u001b[0;32mimport\u001b[0m \u001b[0mdatetime\u001b[0m\u001b[0;34m\u001b[0m\u001b[0m\n\u001b[1;32m     10\u001b[0m \u001b[0;32mfrom\u001b[0m \u001b[0msklearn\u001b[0m\u001b[0;34m.\u001b[0m\u001b[0mcluster\u001b[0m \u001b[0;32mimport\u001b[0m \u001b[0mDBSCAN\u001b[0m\u001b[0;34m\u001b[0m\u001b[0m\n\u001b[0;32m---> 11\u001b[0;31m \u001b[0;32mimport\u001b[0m \u001b[0mmplstereonet\u001b[0m\u001b[0;34m\u001b[0m\u001b[0m\n\u001b[0m\u001b[1;32m     12\u001b[0m \u001b[0;32mfrom\u001b[0m \u001b[0mgeopandas\u001b[0m \u001b[0;32mimport\u001b[0m \u001b[0mGeoDataFrame\u001b[0m\u001b[0;34m\u001b[0m\u001b[0m\n\u001b[1;32m     13\u001b[0m \u001b[0;32mfrom\u001b[0m \u001b[0mshapely\u001b[0m\u001b[0;34m.\u001b[0m\u001b[0mgeometry\u001b[0m \u001b[0;32mimport\u001b[0m \u001b[0mPoint\u001b[0m\u001b[0;34m\u001b[0m\u001b[0m\n",
            "\u001b[0;31mImportError\u001b[0m: No module named mplstereonet"
          ]
        }
      ]
    },
    {
      "metadata": {
        "trusted": true
      },
      "cell_type": "code",
      "source": "",
      "execution_count": null,
      "outputs": []
    },
    {
      "metadata": {
        "trusted": true
      },
      "cell_type": "code",
      "source": "filenames = glob.glob(\"*.txt\")\nwith open('Terremoti.csv', 'w') as outfile:\n    for fname in filenames:\n        with open(fname) as infile:\n            for line in infile:\n                outfile.write(line)",
      "execution_count": 3,
      "outputs": [
        {
          "output_type": "error",
          "ename": "NameError",
          "evalue": "name 'glob' is not defined",
          "traceback": [
            "\u001b[0;31m\u001b[0m",
            "\u001b[0;31mNameError\u001b[0mTraceback (most recent call last)",
            "\u001b[0;32m<ipython-input-3-3014319f40d4>\u001b[0m in \u001b[0;36m<module>\u001b[0;34m()\u001b[0m\n\u001b[0;32m----> 1\u001b[0;31m \u001b[0mfilenames\u001b[0m \u001b[0;34m=\u001b[0m \u001b[0mglob\u001b[0m\u001b[0;34m.\u001b[0m\u001b[0mglob\u001b[0m\u001b[0;34m(\u001b[0m\u001b[0;34m\"*.txt\"\u001b[0m\u001b[0;34m)\u001b[0m\u001b[0;34m\u001b[0m\u001b[0m\n\u001b[0m\u001b[1;32m      2\u001b[0m \u001b[0;32mwith\u001b[0m \u001b[0mopen\u001b[0m\u001b[0;34m(\u001b[0m\u001b[0;34m'Terremoti.csv'\u001b[0m\u001b[0;34m,\u001b[0m \u001b[0;34m'w'\u001b[0m\u001b[0;34m)\u001b[0m \u001b[0;32mas\u001b[0m \u001b[0moutfile\u001b[0m\u001b[0;34m:\u001b[0m\u001b[0;34m\u001b[0m\u001b[0m\n\u001b[1;32m      3\u001b[0m     \u001b[0;32mfor\u001b[0m \u001b[0mfname\u001b[0m \u001b[0;32min\u001b[0m \u001b[0mfilenames\u001b[0m\u001b[0;34m:\u001b[0m\u001b[0;34m\u001b[0m\u001b[0m\n\u001b[1;32m      4\u001b[0m         \u001b[0;32mwith\u001b[0m \u001b[0mopen\u001b[0m\u001b[0;34m(\u001b[0m\u001b[0mfname\u001b[0m\u001b[0;34m)\u001b[0m \u001b[0;32mas\u001b[0m \u001b[0minfile\u001b[0m\u001b[0;34m:\u001b[0m\u001b[0;34m\u001b[0m\u001b[0m\n\u001b[1;32m      5\u001b[0m             \u001b[0;32mfor\u001b[0m \u001b[0mline\u001b[0m \u001b[0;32min\u001b[0m \u001b[0minfile\u001b[0m\u001b[0;34m:\u001b[0m\u001b[0;34m\u001b[0m\u001b[0m\n",
            "\u001b[0;31mNameError\u001b[0m: name 'glob' is not defined"
          ]
        }
      ]
    },
    {
      "metadata": {
        "trusted": true
      },
      "cell_type": "code",
      "source": "# Check ploltly version\nplotly.__version__\n\n# To communicate with Plotly's server, sign in with credentials file\nimport plotly.plotly as py\nfrom pandas import ExcelWriter\nfrom pandas import ExcelFile\n\n# Create data with x and y random over [-2, 2], and z a Gaussian function of x and y.\n#np.random.seed(12345)\n#x = 2 * (np.random.random(500) - 0.5)\n#y = 2 * (np.random.random(500) - 0.5)\n\n#def f(x, y):\n #   return np.exp(-(x + y ** 2))\n\n#z = f(x, y)\n\n#imposto i dati\n#importa il file originale\n#df = pd.read_csv('Saorge_Taggia_erh_erz_prof.csv', sep='\\t', names=['y', 'x','z','a','b'])\n\n#importa il file convertito con convergo\n#df = pd.read_excel('dati_terremoti/dati_terremoti.xlsx', sheetname='Foglio1')\n\ndf = pd.read_excel('dati_terremoti_completi.xlsx', sheet_name='Foglio1')\ndf['Data'] = df['Data'].astype(str).str.zfill(6)\n\n#converto le coordinate wgs 84 in UTM epsg 3003 Gauss-Boaga \nx1 = np.array(df['Longit.'])\ny1 = np.array(df['Latitud.'])\n\n\ninProj = Proj(init='epsg:4326')\noutProj = Proj(init='epsg:3003')\nx2,y2 = transform(inProj,outProj, x1, y1)\n\ndf['x'] = x2\ndf['y'] = y2\n\ndf['z'] = df['Prof corr']  #creo il campo z profondità con valori negativi\n\n\ndf['Data'] = df['Data'].astype(str).str.zfill(6) #riempie la mancanza dello zero nei primi valori\ndf['Data'] =  pd.to_datetime(df['Data'],  format='%y%m%d')\n#df['Ora'] =  pd.to_time(df['Ora'],  format='%H%M')\n#creo una colonna con  la differenza in giorni tra la data e una posta abbastanza indietro nel passato\ndf['Deltatime'] = df['Data'] - datetime.date(1989,1,1)\ndf['Deltatime'] = df['Deltatime'].astype(datetime.timedelta).map(lambda x: np.nan if pd.isnull(x) else x.days)\n#con questo posso fare dei cluster temporali\n#IMPOSTO I FILTRI\n\n#df_filter = df.query('Erh<1 and Erz<4') #imposto i parametri di filtro sugli errori orizzontali e verticali\n\n\n#df_filter = df.query('<Deltatime<') #imposto il filtro sulla data\n\n#imposto i pesi per il calcolo del piano da utilizzare in caso di regressione lineare pesata\n\ndf['weight_calc'] = df['Nf']/24 - 0.25\ndef weight(df):\n    if df['Nf'] <=6 :\n        return 0\n    \n    elif  df['Nf'] > 6 and df['Nf']  < 30   :\n        return df['weight_calc']\n            \n    elif  df['Nf'] >= 30 :\n        return 1\n\ndf['weights'] =  df.apply(weight, axis=1) \n \n\n    \n    \ndf_filter = df",
      "execution_count": 4,
      "outputs": [
        {
          "output_type": "error",
          "ename": "NameError",
          "evalue": "name 'plotly' is not defined",
          "traceback": [
            "\u001b[0;31m\u001b[0m",
            "\u001b[0;31mNameError\u001b[0mTraceback (most recent call last)",
            "\u001b[0;32m<ipython-input-4-3bc96863425f>\u001b[0m in \u001b[0;36m<module>\u001b[0;34m()\u001b[0m\n\u001b[1;32m      1\u001b[0m \u001b[0;31m# Check ploltly version\u001b[0m\u001b[0;34m\u001b[0m\u001b[0;34m\u001b[0m\u001b[0m\n\u001b[0;32m----> 2\u001b[0;31m \u001b[0mplotly\u001b[0m\u001b[0;34m.\u001b[0m\u001b[0m__version__\u001b[0m\u001b[0;34m\u001b[0m\u001b[0m\n\u001b[0m\u001b[1;32m      3\u001b[0m \u001b[0;34m\u001b[0m\u001b[0m\n\u001b[1;32m      4\u001b[0m \u001b[0;31m# To communicate with Plotly's server, sign in with credentials file\u001b[0m\u001b[0;34m\u001b[0m\u001b[0;34m\u001b[0m\u001b[0m\n\u001b[1;32m      5\u001b[0m \u001b[0;32mimport\u001b[0m \u001b[0mplotly\u001b[0m\u001b[0;34m.\u001b[0m\u001b[0mplotly\u001b[0m \u001b[0;32mas\u001b[0m \u001b[0mpy\u001b[0m\u001b[0;34m\u001b[0m\u001b[0m\n",
            "\u001b[0;31mNameError\u001b[0m: name 'plotly' is not defined"
          ]
        }
      ]
    },
    {
      "metadata": {
        "trusted": true
      },
      "cell_type": "code",
      "source": "#df",
      "execution_count": 5,
      "outputs": []
    },
    {
      "metadata": {},
      "cell_type": "markdown",
      "source": "## Procedo con il PRIMO  clustering attraverso DBSCAN (BASE TEMPORALE)"
    },
    {
      "metadata": {
        "trusted": true
      },
      "cell_type": "code",
      "source": "\ncoords = df_filter.as_matrix(columns=['Deltatime'])\n\n\n\ndb = DBSCAN(eps=70, min_samples=10).fit(coords)\nlabels = db.labels_\nfrom collections import Counter\n\n\ndf_filter = df_filter.assign(Classe = labels)\n\nCounter(labels)",
      "execution_count": 6,
      "outputs": [
        {
          "output_type": "error",
          "ename": "NameError",
          "evalue": "name 'df_filter' is not defined",
          "traceback": [
            "\u001b[0;31m\u001b[0m",
            "\u001b[0;31mNameError\u001b[0mTraceback (most recent call last)",
            "\u001b[0;32m<ipython-input-6-f54aa5ce38ca>\u001b[0m in \u001b[0;36m<module>\u001b[0;34m()\u001b[0m\n\u001b[1;32m      1\u001b[0m \u001b[0;34m\u001b[0m\u001b[0m\n\u001b[0;32m----> 2\u001b[0;31m \u001b[0mcoords\u001b[0m \u001b[0;34m=\u001b[0m \u001b[0mdf_filter\u001b[0m\u001b[0;34m.\u001b[0m\u001b[0mas_matrix\u001b[0m\u001b[0;34m(\u001b[0m\u001b[0mcolumns\u001b[0m\u001b[0;34m=\u001b[0m\u001b[0;34m[\u001b[0m\u001b[0;34m'Deltatime'\u001b[0m\u001b[0;34m]\u001b[0m\u001b[0;34m)\u001b[0m\u001b[0;34m\u001b[0m\u001b[0m\n\u001b[0m\u001b[1;32m      3\u001b[0m \u001b[0;34m\u001b[0m\u001b[0m\n\u001b[1;32m      4\u001b[0m \u001b[0;34m\u001b[0m\u001b[0m\n\u001b[1;32m      5\u001b[0m \u001b[0;34m\u001b[0m\u001b[0m\n",
            "\u001b[0;31mNameError\u001b[0m: name 'df_filter' is not defined"
          ]
        }
      ]
    },
    {
      "metadata": {
        "trusted": true
      },
      "cell_type": "code",
      "source": "#inserisco il valore K su cui far girare il ciclo FOR\ncicli = df_filter['Classe'].value_counts().index.tolist()\ncicli = np.array(cicli)\ncicli_clean = np.delete(cicli, np.where(cicli == [-1]), axis=0)# cancello il label -1 che rappresente gli outliers\nplot_dip_direction = 0\nplot_dip = 0",
      "execution_count": 7,
      "outputs": [
        {
          "output_type": "error",
          "ename": "NameError",
          "evalue": "name 'df_filter' is not defined",
          "traceback": [
            "\u001b[0;31m\u001b[0m",
            "\u001b[0;31mNameError\u001b[0mTraceback (most recent call last)",
            "\u001b[0;32m<ipython-input-7-8c696a4bd987>\u001b[0m in \u001b[0;36m<module>\u001b[0;34m()\u001b[0m\n\u001b[1;32m      1\u001b[0m \u001b[0;31m#inserisco il valore K su cui far girare il ciclo FOR\u001b[0m\u001b[0;34m\u001b[0m\u001b[0;34m\u001b[0m\u001b[0m\n\u001b[0;32m----> 2\u001b[0;31m \u001b[0mcicli\u001b[0m \u001b[0;34m=\u001b[0m \u001b[0mdf_filter\u001b[0m\u001b[0;34m[\u001b[0m\u001b[0;34m'Classe'\u001b[0m\u001b[0;34m]\u001b[0m\u001b[0;34m.\u001b[0m\u001b[0mvalue_counts\u001b[0m\u001b[0;34m(\u001b[0m\u001b[0;34m)\u001b[0m\u001b[0;34m.\u001b[0m\u001b[0mindex\u001b[0m\u001b[0;34m.\u001b[0m\u001b[0mtolist\u001b[0m\u001b[0;34m(\u001b[0m\u001b[0;34m)\u001b[0m\u001b[0;34m\u001b[0m\u001b[0m\n\u001b[0m\u001b[1;32m      3\u001b[0m \u001b[0mcicli\u001b[0m \u001b[0;34m=\u001b[0m \u001b[0mnp\u001b[0m\u001b[0;34m.\u001b[0m\u001b[0marray\u001b[0m\u001b[0;34m(\u001b[0m\u001b[0mcicli\u001b[0m\u001b[0;34m)\u001b[0m\u001b[0;34m\u001b[0m\u001b[0m\n\u001b[1;32m      4\u001b[0m \u001b[0mcicli_clean\u001b[0m \u001b[0;34m=\u001b[0m \u001b[0mnp\u001b[0m\u001b[0;34m.\u001b[0m\u001b[0mdelete\u001b[0m\u001b[0;34m(\u001b[0m\u001b[0mcicli\u001b[0m\u001b[0;34m,\u001b[0m \u001b[0mnp\u001b[0m\u001b[0;34m.\u001b[0m\u001b[0mwhere\u001b[0m\u001b[0;34m(\u001b[0m\u001b[0mcicli\u001b[0m \u001b[0;34m==\u001b[0m \u001b[0;34m[\u001b[0m\u001b[0;34m-\u001b[0m\u001b[0;36m1\u001b[0m\u001b[0;34m]\u001b[0m\u001b[0;34m)\u001b[0m\u001b[0;34m,\u001b[0m \u001b[0maxis\u001b[0m\u001b[0;34m=\u001b[0m\u001b[0;36m0\u001b[0m\u001b[0;34m)\u001b[0m\u001b[0;31m# cancello il label -1 che rappresente gli outliers\u001b[0m\u001b[0;34m\u001b[0m\u001b[0m\n\u001b[1;32m      5\u001b[0m \u001b[0mplot_dip_direction\u001b[0m \u001b[0;34m=\u001b[0m \u001b[0;36m0\u001b[0m\u001b[0;34m\u001b[0m\u001b[0m\n",
            "\u001b[0;31mNameError\u001b[0m: name 'df_filter' is not defined"
          ]
        }
      ]
    },
    {
      "metadata": {},
      "cell_type": "markdown",
      "source": "# CICLO FOR"
    },
    {
      "metadata": {
        "trusted": true
      },
      "cell_type": "code",
      "source": "for K in cicli_clean:\n    \n    \n    #filtro la label di interesse\n    df_cluster = df_filter[df_filter['Classe'] == K]\n    df_filter_2 = df_cluster\n    coords_2 = df_cluster.as_matrix(columns=['x','y','z'])\n\n    \n    \n    #secondo filtraggio con DBSCAN\n    db = DBSCAN(eps=3000, min_samples=5).fit(coords_2)\n    labels_2 = db.labels_\n    from collections import Counter\n\n\n    df_filter_2 = df_filter_2.assign(Classe_spaziale = labels_2)\n    \n    #inserisco il valore J su cui far girare il SECONDO ciclo FOR\n    cicli_2 = df_filter_2['Classe_spaziale'].value_counts().index.tolist()\n    cicli_2 = np.array(cicli_2)\n    cicli_2_clean = np.delete(cicli_2, np.where(cicli_2 == [-1]), axis=0)# cancello il label -1 che rappresente gli outliers\n\n\n ##################### SECONDO CICLO ######################################   \n    \n    \n    for J in cicli_2_clean:\n    \n    \n        #filtro la label di interesse\n        df_cluster_2 = df_filter_2[df_filter_2['Classe_spaziale'] == J]\n        \n        \n        inizio = df_cluster_2.iloc[0,0] # setto la data inizio e fine del cluster\n        fine = df_cluster_2.iloc[-1,0]\n        \n        \n        #Creo una mappa dei punti su google maps\n\n        from gmplot import gmplot\n        gmap = gmplot.GoogleMapPlotter( 44.5514, 9.4335, 13)\n\n        # Scatter points\n        top_attraction_lats = df['Latitud.']\n        top_attraction_lons = df['Longit.']\n\n\n        filter_attraction_lats = df_filter['Latitud.']\n        filter_attraction_lons = df_filter['Longit.']\n\n        cluster_attraction_lats = df_cluster_2['Latitud.']# *******ATTENZIONE SONO DATI FILTRATI E CLUSTERIZZATI\n        cluster_attraction_lons = df_cluster_2['Longit.']\n\n\n\n        gmap.scatter(top_attraction_lats, top_attraction_lons, '#3B0B39', size=100, marker=False)\n\n        #gmap.scatter(filter_attraction_lats, filter_attraction_lons, '#f90707', size=40, marker=False)\n\n        gmap.scatter(cluster_attraction_lats, cluster_attraction_lons, '#1307f9', size=50, marker=False)\n\n        gmap.heatmap(cluster_attraction_lats, cluster_attraction_lons ) # crea una heatmap\n        # Draw\n        gmap.draw(\"my_map_time%f%f.html\"% (K,J))\n    \n    \n    \n    \n        #importo il file depurato degli outlayer:\n        #df = pd.read_csv('taggia_saorge_ripulita_outlier.csv', sep=',', names=['x', 'y','z'])\n        \n        x = df_cluster_2['x']  \n    \n        y = df_cluster_2['y']   \n        \n        z = df_cluster_2['z']\n\n        W = df_cluster_2['weights']\n\n\n        \n        \n\n        data = np.c_[x,y,z]\n\n        # regular grid covering the domain of the data\n        mn = np.min(data, axis=0)\n        mx = np.max(data, axis=0)\n        X,Y = np.meshgrid(np.linspace(mn[0], mx[0], 20), np.linspace(mn[1], mx[1], 20))\n        XX = X.flatten()\n        YY = Y.flatten()\n    \n        # best-fit linear plane (1st-order)\n        # applico i pesi\n\n        A = np.c_[data[:,0], data[:,1], np.ones(data.shape[0])]\n        L = data[:,2]\n        AW = A * np.sqrt(W[:,np.newaxis]) # intermedi con pesi per  calcolo dei coefficienti\n        LW = L * np.sqrt(W)               # intermedi con pesi per  calcolo dei coefficienti\n\n        C,_,_,_ = scipy.linalg.lstsq(AW, LW)    # coefficients\n\n        # evaluate it on grid\n        Z = C[0]*X + C[1]*Y + C[2]\n    \n        ####################################################################################################\n        #ricavo la direzione e l'immersione del piano attraverso l'equazione del piano e i coseni direttori\n\n        A=C[0]\n        B=C[1]\n        C_=-1\n        D=C[2]\n\n        #calcolo E\n        E=np.sqrt(A**2 + B**2 + 1)\n\n        #calcolo i coseni\n        cos_a = A/E\n\n        cos_b = B/E\n\n        cos_cp = C_/E\n\n\n        cos_c = np.cos((np.pi/2) + np.arccos(C_/E))   \n        \n    \n        #print(cos_a, cos_b, cos_c, cos_cp, cos_a_deg, cos_b_deg)\n\n\n        #calcolo la direzione teta del vettore, il coseni direttori danno la direzione del vettore occorrre aggiungere 90°\n        teta_primo = np.arctan(cos_a/cos_b)   #espresso in radianti\n        teta_deg = (teta_primo*180)/np.pi \n\n        #calcolo della direzione della massima pendenza sul piano\n        #dip_direction = teta_deg \n\n        #calcolo l'immersione dip angolo tra la verticale e il piano\n        dip_vert = np.arcsin(-1*cos_c)\n        dip_deg = (dip_vert*180)/np.pi\n\n        #calcolo l'immersione dip\n        dip = dip_deg\n\n        #occorre orientare correttamente il dip_direction\n        if cos_a > 0 and cos_b > 0:                \n            dip_direction = teta_deg\n            if cos_cp <0:\n                dip_direction =  dip_direction + 180\n        \n        if  cos_a > 0 and cos_b < 0:\n            dip_direction = teta_deg + 180\n            if cos_cp <0:\n                dip_direction =  dip_direction + 180\n        \n            \n        if  cos_a < 0 and cos_b < 0:\n            dip_direction = teta_deg + 180\n            if cos_cp <0:\n                dip_direction =  dip_direction - 180\n       \n    \n        if  cos_a < 0 and cos_b > 0:\n            dip_direction =  teta_deg + 360\n            if cos_cp <0:\n                dip_direction =  dip_direction - 180\n                 \n        \n         #creo l'arrai per il plotaggio su stereogramma\n        plot_dip_direction = np.append(plot_dip_direction, dip_direction)\n        plot_dip = np.append(plot_dip, dip)\n        print('##################################################')\n        print(K,J)\n        print(\"dip_direction= %f ; dip= %f\" % (dip_direction, dip))\n        #print(cos_a, cos_b)\n     \n        output = \"teta= %f ; dip= %f\" % (dip_direction, dip)\n        file = open(\"giacitura_cluster_%f%f.txt\" %(K,J),\"w\")\n        file.write(output)\n        file.close()\n\n        daframe_cluster_xx = pd.DataFrame.to_csv(df_cluster_2)\n        file = open(\"daframe_cluster_%f%f.csv\" %(K,J),\"w\")\n        file.write(daframe_cluster_xx)\n        file.close()\n        print(\"Controllo di aver eliminato scatter outlayer [-1]\" , cicli_clean , cicli_2_clean) \n        \n        \n        #salva i risultati su di un file shape\n        geometry = [Point(xy) for xy in zip(df_cluster_2.x , df_cluster_2.y)]\n        df_shape = df_cluster_2.drop(['x', 'y','Ora', 'Data', 'Sec'], axis=1)\n        crs = {'init': 'epsg:3003'}\n        gdf = GeoDataFrame( df_shape, crs=crs, geometry=geometry)   #df_shape,\n        gdf.to_file(driver = 'ESRI Shapefile', filename= \"result%f%f.shp\" %(K,J))\n\n        \n        \n        #crea gli stereogrammi\nstrike = plot_dip_direction - 90 \ndip =  plot_dip\nfig = plt.figure()\nax = fig.add_subplot(111, projection='stereonet')\nax.plane(strike, dip)\nax.pole(strike, dip ,markersize=5)\nax.grid()\nplt.show()\n\n#density plot\nfig, ax = mplstereonet.subplots()\ncax = ax.density_contourf(strike, dip, measurement='poles')\nax.pole(strike, dip)\nax.grid(True)\nfig.colorbar(cax)\n\nplt.show()",
      "execution_count": 8,
      "outputs": [
        {
          "output_type": "error",
          "ename": "NameError",
          "evalue": "name 'cicli_clean' is not defined",
          "traceback": [
            "\u001b[0;31m\u001b[0m",
            "\u001b[0;31mNameError\u001b[0mTraceback (most recent call last)",
            "\u001b[0;32m<ipython-input-8-3364592b8224>\u001b[0m in \u001b[0;36m<module>\u001b[0;34m()\u001b[0m\n\u001b[0;32m----> 1\u001b[0;31m \u001b[0;32mfor\u001b[0m \u001b[0mK\u001b[0m \u001b[0;32min\u001b[0m \u001b[0mcicli_clean\u001b[0m\u001b[0;34m:\u001b[0m\u001b[0;34m\u001b[0m\u001b[0m\n\u001b[0m\u001b[1;32m      2\u001b[0m \u001b[0;34m\u001b[0m\u001b[0m\n\u001b[1;32m      3\u001b[0m \u001b[0;34m\u001b[0m\u001b[0m\n\u001b[1;32m      4\u001b[0m     \u001b[0;31m#filtro la label di interesse\u001b[0m\u001b[0;34m\u001b[0m\u001b[0;34m\u001b[0m\u001b[0m\n\u001b[1;32m      5\u001b[0m     \u001b[0mdf_cluster\u001b[0m \u001b[0;34m=\u001b[0m \u001b[0mdf_filter\u001b[0m\u001b[0;34m[\u001b[0m\u001b[0mdf_filter\u001b[0m\u001b[0;34m[\u001b[0m\u001b[0;34m'Classe'\u001b[0m\u001b[0;34m]\u001b[0m \u001b[0;34m==\u001b[0m \u001b[0mK\u001b[0m\u001b[0;34m]\u001b[0m\u001b[0;34m\u001b[0m\u001b[0m\n",
            "\u001b[0;31mNameError\u001b[0m: name 'cicli_clean' is not defined"
          ]
        }
      ]
    },
    {
      "metadata": {
        "trusted": true
      },
      "cell_type": "code",
      "source": "",
      "execution_count": null,
      "outputs": []
    },
    {
      "metadata": {
        "trusted": true
      },
      "cell_type": "code",
      "source": "",
      "execution_count": null,
      "outputs": []
    },
    {
      "metadata": {
        "trusted": true
      },
      "cell_type": "code",
      "source": "",
      "execution_count": null,
      "outputs": []
    },
    {
      "metadata": {
        "trusted": true
      },
      "cell_type": "code",
      "source": "",
      "execution_count": null,
      "outputs": []
    }
  ],
  "metadata": {
    "kernelspec": {
      "name": "python2",
      "display_name": "Python 2",
      "language": "python"
    },
    "language_info": {
      "mimetype": "text/x-python",
      "nbconvert_exporter": "python",
      "name": "python",
      "pygments_lexer": "ipython2",
      "version": "2.7.15",
      "file_extension": ".py",
      "codemirror_mode": {
        "version": 2,
        "name": "ipython"
      }
    }
  },
  "nbformat": 4,
  "nbformat_minor": 2
}