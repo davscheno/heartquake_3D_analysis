{
  "cells": [
    {
      "metadata": {
        "trusted": true
      },
      "cell_type": "code",
      "source": "!pip install gmplot\n!pip install pyproj\n!pip install mplstereonet\n!pip install shapely\n!pip install geopandas\n!pip install uncertainties\n!pip install plotly==4.3.0\n!pip install \"notebook>=5.3\" \"ipywidgets>=7.2\"",
      "execution_count": 1,
      "outputs": [
        {
          "output_type": "stream",
          "text": "Collecting gmplot\n\u001b[?25l  Downloading https://files.pythonhosted.org/packages/e2/b1/e1429c31a40b3ef5840c16f78b506d03be9f27e517d3870a6fd0b356bd46/gmplot-1.2.0.tar.gz (115kB)\n\u001b[K     |████████████████████████████████| 122kB 3.1MB/s eta 0:00:01\n\u001b[?25hRequirement already satisfied: requests in /home/nbuser/anaconda3_501/lib/python3.6/site-packages (from gmplot) (2.22.0)\nRequirement already satisfied: urllib3!=1.25.0,!=1.25.1,<1.26,>=1.21.1 in /home/nbuser/anaconda3_501/lib/python3.6/site-packages (from requests->gmplot) (1.23)\nRequirement already satisfied: chardet<3.1.0,>=3.0.2 in /home/nbuser/anaconda3_501/lib/python3.6/site-packages (from requests->gmplot) (3.0.4)\nRequirement already satisfied: certifi>=2017.4.17 in /home/nbuser/anaconda3_501/lib/python3.6/site-packages (from requests->gmplot) (2018.10.15)\nRequirement already satisfied: idna<2.9,>=2.5 in /home/nbuser/anaconda3_501/lib/python3.6/site-packages (from requests->gmplot) (2.7)\nBuilding wheels for collected packages: gmplot\n  Building wheel for gmplot (setup.py) ... \u001b[?25ldone\n\u001b[?25h  Created wheel for gmplot: filename=gmplot-1.2.0-cp36-none-any.whl size=145289 sha256=ace89425b337d946e306c3f3a290eb3e7376b28d11cdfcc246284389e2c9a54f\n  Stored in directory: /home/nbuser/.cache/pip/wheels/81/6a/76/4dd6a7cc310ba765894159ee84871e8cd55221d82ef14b81a1\nSuccessfully built gmplot\nInstalling collected packages: gmplot\nSuccessfully installed gmplot-1.2.0\n\u001b[33mWARNING: You are using pip version 19.3.1; however, version 20.0.2 is available.\nYou should consider upgrading via the 'pip install --upgrade pip' command.\u001b[0m\nRequirement already satisfied: pyproj in /home/nbuser/anaconda3_501/lib/python3.6/site-packages (2.6.0)\n\u001b[33mWARNING: You are using pip version 19.3.1; however, version 20.0.2 is available.\nYou should consider upgrading via the 'pip install --upgrade pip' command.\u001b[0m\nRequirement already satisfied: mplstereonet in /home/nbuser/anaconda3_501/lib/python3.6/site-packages (0.1)\nRequirement already satisfied: numpy>=1.1 in /home/nbuser/anaconda3_501/lib/python3.6/site-packages (from mplstereonet) (1.16.2)\nRequirement already satisfied: matplotlib>=0.98 in /home/nbuser/anaconda3_501/lib/python3.6/site-packages (from mplstereonet) (3.0.0)\nRequirement already satisfied: cycler>=0.10 in /home/nbuser/anaconda3_501/lib/python3.6/site-packages (from matplotlib>=0.98->mplstereonet) (0.10.0)\nRequirement already satisfied: kiwisolver>=1.0.1 in /home/nbuser/anaconda3_501/lib/python3.6/site-packages (from matplotlib>=0.98->mplstereonet) (1.0.1)\nRequirement already satisfied: pyparsing!=2.0.4,!=2.1.2,!=2.1.6,>=2.0.1 in /home/nbuser/anaconda3_501/lib/python3.6/site-packages (from matplotlib>=0.98->mplstereonet) (2.3.0)\nRequirement already satisfied: python-dateutil>=2.1 in /home/nbuser/anaconda3_501/lib/python3.6/site-packages (from matplotlib>=0.98->mplstereonet) (2.8.1)\nRequirement already satisfied: six in /home/nbuser/anaconda3_501/lib/python3.6/site-packages (from cycler>=0.10->matplotlib>=0.98->mplstereonet) (1.11.0)\nRequirement already satisfied: setuptools in /home/nbuser/anaconda3_501/lib/python3.6/site-packages (from kiwisolver>=1.0.1->matplotlib>=0.98->mplstereonet) (41.6.0)\n\u001b[33mWARNING: You are using pip version 19.3.1; however, version 20.0.2 is available.\nYou should consider upgrading via the 'pip install --upgrade pip' command.\u001b[0m\nRequirement already satisfied: shapely in /home/nbuser/anaconda3_501/lib/python3.6/site-packages (1.7.0)\n\u001b[33mWARNING: You are using pip version 19.3.1; however, version 20.0.2 is available.\nYou should consider upgrading via the 'pip install --upgrade pip' command.\u001b[0m\nRequirement already satisfied: geopandas in /home/nbuser/anaconda3_501/lib/python3.6/site-packages (0.7.0)\nRequirement already satisfied: pandas>=0.23.0 in /home/nbuser/anaconda3_501/lib/python3.6/site-packages (from geopandas) (0.23.4)\nRequirement already satisfied: fiona in /home/nbuser/anaconda3_501/lib/python3.6/site-packages (from geopandas) (1.8.13.post1)\nRequirement already satisfied: pyproj>=2.2.0 in /home/nbuser/anaconda3_501/lib/python3.6/site-packages (from geopandas) (2.6.0)\nRequirement already satisfied: shapely in /home/nbuser/anaconda3_501/lib/python3.6/site-packages (from geopandas) (1.7.0)\nRequirement already satisfied: pytz>=2011k in /home/nbuser/anaconda3_501/lib/python3.6/site-packages (from pandas>=0.23.0->geopandas) (2019.3)\nRequirement already satisfied: numpy>=1.9.0 in /home/nbuser/anaconda3_501/lib/python3.6/site-packages (from pandas>=0.23.0->geopandas) (1.16.2)\nRequirement already satisfied: python-dateutil>=2.5.0 in /home/nbuser/anaconda3_501/lib/python3.6/site-packages (from pandas>=0.23.0->geopandas) (2.8.1)\nRequirement already satisfied: click<8,>=4.0 in /home/nbuser/anaconda3_501/lib/python3.6/site-packages (from fiona->geopandas) (7.0)\nRequirement already satisfied: six>=1.7 in /home/nbuser/anaconda3_501/lib/python3.6/site-packages (from fiona->geopandas) (1.11.0)\nRequirement already satisfied: click-plugins>=1.0 in /home/nbuser/anaconda3_501/lib/python3.6/site-packages (from fiona->geopandas) (1.1.1)\nRequirement already satisfied: munch in /home/nbuser/anaconda3_501/lib/python3.6/site-packages (from fiona->geopandas) (2.5.0)\nRequirement already satisfied: attrs>=17 in /home/nbuser/anaconda3_501/lib/python3.6/site-packages (from fiona->geopandas) (18.2.0)\nRequirement already satisfied: cligj>=0.5 in /home/nbuser/anaconda3_501/lib/python3.6/site-packages (from fiona->geopandas) (0.5.0)\n\u001b[33mWARNING: You are using pip version 19.3.1; however, version 20.0.2 is available.\nYou should consider upgrading via the 'pip install --upgrade pip' command.\u001b[0m\nCollecting uncertainties\n\u001b[?25l  Downloading https://files.pythonhosted.org/packages/2a/c2/babbe5b16141859dd799ed31c03987100a7b6d0ca7c0ed4429c96ce60fdf/uncertainties-3.1.2.tar.gz (232kB)\n\u001b[K     |████████████████████████████████| 235kB 3.6MB/s eta 0:00:01\n\u001b[?25hBuilding wheels for collected packages: uncertainties\n  Building wheel for uncertainties (setup.py) ... \u001b[?25ldone\n\u001b[?25h  Created wheel for uncertainties: filename=uncertainties-3.1.2-cp36-none-any.whl size=101299 sha256=2cffe1651aee8f52d419ccafabd7908fa378dc7287d4ffd92af7b3c17dda062a\n  Stored in directory: /home/nbuser/.cache/pip/wheels/d9/d3/0e/5b0b743a8abd50373705427438456da5dc2621891138d7a618\nSuccessfully built uncertainties\nInstalling collected packages: uncertainties\nSuccessfully installed uncertainties-3.1.2\n\u001b[33mWARNING: You are using pip version 19.3.1; however, version 20.0.2 is available.\nYou should consider upgrading via the 'pip install --upgrade pip' command.\u001b[0m\nCollecting plotly==4.3.0\n\u001b[?25l  Downloading https://files.pythonhosted.org/packages/e3/67/eb2b2be7a63a66548abea92447fc04d9abf363520f1af6145c5f033cd1b3/plotly-4.3.0-py2.py3-none-any.whl (7.3MB)\n\u001b[K     |████████████████████████████████| 7.3MB 2.2MB/s eta 0:00:01\n\u001b[?25hRequirement already satisfied: retrying>=1.3.3 in /home/nbuser/anaconda3_501/lib/python3.6/site-packages (from plotly==4.3.0) (1.3.3)\nRequirement already satisfied: six in /home/nbuser/anaconda3_501/lib/python3.6/site-packages (from plotly==4.3.0) (1.11.0)\nInstalling collected packages: plotly\n  Found existing installation: plotly 4.2.1\n    Uninstalling plotly-4.2.1:\n      Successfully uninstalled plotly-4.2.1\nSuccessfully installed plotly-4.3.0\n\u001b[33mWARNING: You are using pip version 19.3.1; however, version 20.0.2 is available.\nYou should consider upgrading via the 'pip install --upgrade pip' command.\u001b[0m\nRequirement already satisfied: notebook>=5.3 in /home/nbuser/anaconda3_501/lib/python3.6/site-packages (5.7.2)\nRequirement already satisfied: ipywidgets>=7.2 in /home/nbuser/anaconda3_501/lib/python3.6/site-packages (7.5.1)\nRequirement already satisfied: prometheus-client in /home/nbuser/anaconda3_501/lib/python3.6/site-packages (from notebook>=5.3) (0.4.2)\nRequirement already satisfied: nbformat in /home/nbuser/anaconda3_501/lib/python3.6/site-packages (from notebook>=5.3) (4.4.0)\nRequirement already satisfied: ipykernel in /home/nbuser/anaconda3_501/lib/python3.6/site-packages (from notebook>=5.3) (5.1.3)\nRequirement already satisfied: nbconvert in /home/nbuser/anaconda3_501/lib/python3.6/site-packages (from notebook>=5.3) (5.6.1)\n",
          "name": "stdout"
        },
        {
          "output_type": "stream",
          "text": "Requirement already satisfied: jupyter-client>=5.2.0 in /home/nbuser/anaconda3_501/lib/python3.6/site-packages (from notebook>=5.3) (5.2.3)\nRequirement already satisfied: terminado>=0.8.1 in /home/nbuser/anaconda3_501/lib/python3.6/site-packages (from notebook>=5.3) (0.8.1)\nRequirement already satisfied: jupyter-core>=4.4.0 in /home/nbuser/anaconda3_501/lib/python3.6/site-packages (from notebook>=5.3) (4.4.0)\nRequirement already satisfied: Send2Trash in /home/nbuser/anaconda3_501/lib/python3.6/site-packages (from notebook>=5.3) (1.5.0)\nRequirement already satisfied: traitlets>=4.2.1 in /home/nbuser/anaconda3_501/lib/python3.6/site-packages (from notebook>=5.3) (4.3.2)\nRequirement already satisfied: pyzmq>=17 in /home/nbuser/anaconda3_501/lib/python3.6/site-packages (from notebook>=5.3) (17.1.2)\nRequirement already satisfied: jinja2 in /home/nbuser/anaconda3_501/lib/python3.6/site-packages (from notebook>=5.3) (2.10)\nRequirement already satisfied: tornado>=4 in /home/nbuser/anaconda3_501/lib/python3.6/site-packages (from notebook>=5.3) (4.5.3)\nRequirement already satisfied: ipython-genutils in /home/nbuser/anaconda3_501/lib/python3.6/site-packages (from notebook>=5.3) (0.2.0)\nRequirement already satisfied: widgetsnbextension~=3.5.0 in /home/nbuser/anaconda3_501/lib/python3.6/site-packages (from ipywidgets>=7.2) (3.5.1)\nRequirement already satisfied: ipython>=4.0.0; python_version >= \"3.3\" in /home/nbuser/anaconda3_501/lib/python3.6/site-packages (from ipywidgets>=7.2) (7.1.1)\nRequirement already satisfied: jsonschema!=2.5.0,>=2.4 in /home/nbuser/anaconda3_501/lib/python3.6/site-packages (from nbformat->notebook>=5.3) (2.6.0)\nRequirement already satisfied: mistune<2,>=0.8.1 in /home/nbuser/anaconda3_501/lib/python3.6/site-packages (from nbconvert->notebook>=5.3) (0.8.4)\nRequirement already satisfied: pygments in /home/nbuser/anaconda3_501/lib/python3.6/site-packages (from nbconvert->notebook>=5.3) (2.2.0)\nRequirement already satisfied: defusedxml in /home/nbuser/anaconda3_501/lib/python3.6/site-packages (from nbconvert->notebook>=5.3) (0.5.0)\nRequirement already satisfied: pandocfilters>=1.4.1 in /home/nbuser/anaconda3_501/lib/python3.6/site-packages (from nbconvert->notebook>=5.3) (1.4.2)\nRequirement already satisfied: entrypoints>=0.2.2 in /home/nbuser/anaconda3_501/lib/python3.6/site-packages (from nbconvert->notebook>=5.3) (0.2.3)\nRequirement already satisfied: bleach in /home/nbuser/anaconda3_501/lib/python3.6/site-packages (from nbconvert->notebook>=5.3) (1.5.0)\nRequirement already satisfied: testpath in /home/nbuser/anaconda3_501/lib/python3.6/site-packages (from nbconvert->notebook>=5.3) (0.4.2)\nRequirement already satisfied: python-dateutil>=2.1 in /home/nbuser/anaconda3_501/lib/python3.6/site-packages (from jupyter-client>=5.2.0->notebook>=5.3) (2.8.1)\nRequirement already satisfied: six in /home/nbuser/anaconda3_501/lib/python3.6/site-packages (from traitlets>=4.2.1->notebook>=5.3) (1.11.0)\nRequirement already satisfied: decorator in /home/nbuser/anaconda3_501/lib/python3.6/site-packages (from traitlets>=4.2.1->notebook>=5.3) (4.3.0)\nRequirement already satisfied: MarkupSafe>=0.23 in /home/nbuser/anaconda3_501/lib/python3.6/site-packages (from jinja2->notebook>=5.3) (1.1.0)\nRequirement already satisfied: pickleshare in /home/nbuser/anaconda3_501/lib/python3.6/site-packages (from ipython>=4.0.0; python_version >= \"3.3\"->ipywidgets>=7.2) (0.7.5)\nRequirement already satisfied: setuptools>=18.5 in /home/nbuser/anaconda3_501/lib/python3.6/site-packages (from ipython>=4.0.0; python_version >= \"3.3\"->ipywidgets>=7.2) (41.6.0)\nRequirement already satisfied: backcall in /home/nbuser/anaconda3_501/lib/python3.6/site-packages (from ipython>=4.0.0; python_version >= \"3.3\"->ipywidgets>=7.2) (0.1.0)\nRequirement already satisfied: pexpect; sys_platform != \"win32\" in /home/nbuser/anaconda3_501/lib/python3.6/site-packages (from ipython>=4.0.0; python_version >= \"3.3\"->ipywidgets>=7.2) (4.6.0)\nRequirement already satisfied: prompt-toolkit<2.1.0,>=2.0.0 in /home/nbuser/anaconda3_501/lib/python3.6/site-packages (from ipython>=4.0.0; python_version >= \"3.3\"->ipywidgets>=7.2) (2.0.7)\nRequirement already satisfied: jedi>=0.10 in /home/nbuser/anaconda3_501/lib/python3.6/site-packages (from ipython>=4.0.0; python_version >= \"3.3\"->ipywidgets>=7.2) (0.13.1)\nRequirement already satisfied: html5lib!=0.9999,!=0.99999,<0.99999999,>=0.999 in /home/nbuser/anaconda3_501/lib/python3.6/site-packages (from bleach->nbconvert->notebook>=5.3) (0.9999999)\nRequirement already satisfied: ptyprocess>=0.5 in /home/nbuser/anaconda3_501/lib/python3.6/site-packages (from pexpect; sys_platform != \"win32\"->ipython>=4.0.0; python_version >= \"3.3\"->ipywidgets>=7.2) (0.6.0)\nRequirement already satisfied: wcwidth in /home/nbuser/anaconda3_501/lib/python3.6/site-packages (from prompt-toolkit<2.1.0,>=2.0.0->ipython>=4.0.0; python_version >= \"3.3\"->ipywidgets>=7.2) (0.1.7)\nRequirement already satisfied: parso>=0.3.0 in /home/nbuser/anaconda3_501/lib/python3.6/site-packages (from jedi>=0.10->ipython>=4.0.0; python_version >= \"3.3\"->ipywidgets>=7.2) (0.3.1)\n\u001b[33mWARNING: You are using pip version 19.3.1; however, version 20.0.2 is available.\nYou should consider upgrading via the 'pip install --upgrade pip' command.\u001b[0m\n",
          "name": "stdout"
        }
      ]
    },
    {
      "metadata": {
        "trusted": true
      },
      "cell_type": "code",
      "source": "",
      "execution_count": null,
      "outputs": []
    },
    {
      "metadata": {
        "tags": [
          "piano"
        ],
        "trusted": true
      },
      "cell_type": "code",
      "source": "def piano(A,B,C_,D):\n\n    #calcolo E\n    E=np.sqrt(A**2 + B**2 + 1)\n\n    #calcolo i coseni\n    cos_a = A/E\n\n    cos_b = B/E\n\n    cos_cp = C_/E  #gamma_p\n\n\n    cos_c = np.cos((np.pi/2) + np.arccos(C_/E))   #controllare se è corretto \n\n    #calcolo la direzione teta del vettore, il coseni direttori danno la direzione del vettore occorrre aggiungere 90°\n    teta_primo = np.arctan(cos_a/cos_b)   #espresso in radianti\n    teta_deg = (teta_primo*180)/np.pi \n\n    #calcolo della direzione della massima pendenza sul piano\n    #dip_direction = teta_deg \n\n    #calcolo l'immersione dip angolo tra la verticale e il piano\n    dip_vert = np.arcsin(-1*cos_c)\n    dip_deg = (dip_vert*180)/np.pi\n\n    #calcolo l'immersione dip\n    dip = dip_deg\n    #occorre orientare correttamente il dip_direction\n    #cond_1 = dip_direction = teta_deg\n    #cond_2 = dip_direction = teta_deg + 180\n    #cond_3 = dip_direction =  teta_deg + 360\n\n    #def orientation(cos_a,cos_b):\n\n    if cos_a > 0 and cos_b > 0:                \n        dip_direction = teta_deg\n        if cos_cp <0:\n            dip_direction =  dip_direction + 180\n\n    if  cos_a > 0 and cos_b < 0:\n        dip_direction = teta_deg + 180\n        if cos_cp <0:\n            dip_direction =  dip_direction + 180\n\n\n    if  cos_a < 0 and cos_b < 0:\n        dip_direction = teta_deg + 180\n        if cos_cp <0:\n            dip_direction =  dip_direction - 180\n\n\n    if  cos_a < 0 and cos_b > 0:\n        dip_direction =  teta_deg + 360\n        if cos_cp <0:\n            dip_direction =  dip_direction - 180\n\n    #creo l'array per il plotaggio su stereogramma\n    plot_dip_direction = 0\n    plot_dip = 0\n    plot_dip_direction = np.append(plot_dip_direction, dip_direction)\n    plot_dip = np.append(plot_dip, dip)\n    print(\"dip_direction= %f ; dip= %f\" % (dip_direction, dip))\n    print(cos_a, cos_b)\n    print('##################################################')\n    print(teta_deg)\n    output = \"teta= %f ; dip= %f\" % (dip_direction, dip)\n    file = open(\"giacitura_cluster_xx_plane.txt\",\"w\")\n    file.write(output)\n    file.close()\n\n    daframe_cluster_xx = pd.DataFrame.to_csv(df_cluster_2)\n    file = open(\"daframe_cluster_xx_plane.csv\",\"w\")\n    file.write(daframe_cluster_xx)\n    file.close()\n\n    #salva i risultati su di un file shape\n    geometry = [Point(xy) for xy in zip(df_cluster_2.x , df_cluster_2.y)]\n    df_shape = df_cluster_2.drop(['x', 'y','Ora', 'Data', 'Sec'], axis=1)\n    crs = {'init': 'epsg:3003'}\n    gdf = GeoDataFrame( df_shape, crs=crs, geometry=geometry)   #df_shape,\n    gdf.to_file(driver = 'ESRI Shapefile', filename= \"result_xx_plane.shp\" )\n\n\n\n    strike = plot_dip_direction - 90 \n    dip =  plot_dip\n    fig = plt.figure()\n    ax = fig.add_subplot(111, projection='stereonet')\n    ax.plane(strike, dip)\n    ax.pole(strike, dip ,markersize=5)\n    ax.grid()\n    plt.show()",
      "execution_count": 2,
      "outputs": []
    },
    {
      "metadata": {
        "tags": [
          "mappa"
        ],
        "trusted": true
      },
      "cell_type": "code",
      "source": "def map_google():\n    #Creo una mappa dei punti su google maps\n\n    from gmplot import gmplot\n    gmap = gmplot.GoogleMapPlotter( 44.5514, 9.4335, 13)\n\n    # Scatter points\n    top_attraction_lats = df['Latitud.']\n    top_attraction_lons = df['Longit.']\n\n\n    filter_attraction_lats = df_filter['Latitud.']\n    filter_attraction_lons = df_filter['Longit.']\n\n    cluster_attraction_lats = df_cluster_2['Latitud.']# *******ATTENZIONE SONO DATI FILTRATI E CLUSTERIZZATI\n    cluster_attraction_lons = df_cluster_2['Longit.']\n\n\n\n    gmap.scatter(top_attraction_lats, top_attraction_lons, '#3B0B39', size=100, marker=False)\n\n    #gmap.scatter(filter_attraction_lats, filter_attraction_lons, '#f90707', size=40, marker=False)\n\n    gmap.scatter(cluster_attraction_lats, cluster_attraction_lons, '#1307f9', size=50, marker=False)\n\n    gmap.heatmap(cluster_attraction_lats, cluster_attraction_lons ) # crea una heatmap\n    # Draw\n    gmap.draw(\"my_map_time.html\")\n    ",
      "execution_count": 3,
      "outputs": []
    },
    {
      "metadata": {
        "tags": [
          "3d_plane"
        ],
        "trusted": true
      },
      "cell_type": "code",
      "source": "def plot_3d_plane(Z, z_err1, z_err2):\n    \n    \n\n    trace1 = go.Scatter3d(\n    x=data_orig[:,0],\n    y=data_orig[:,1],\n    z=data_orig[:,2],\n    mode='markers',\n    marker=dict(size=4, color='red', line=dict(color='black', width=0.5), opacity=0.85)\n)\n\n\n    trace2 = go.Surface(z=Z, x=X, y=Y, colorscale='RdBu', opacity=0.6)\n    trace3 = go.Surface(z=z_err_1, x=X, y=Y, colorscale='Viridis', opacity=0.6,showscale=False,)\n    trace4 = go.Surface(z=z_err_2, x=X, y=Y, colorscale='Viridis', opacity=0.6,showscale=False,)\n    #best_fit_plane = trace3\n    # Package the trace dictionary into a data object\n    data_test1 = go.Data([ trace1, trace2,trace3,trace4])\n\n    # Dictionary of style options for all axes\n    axis = dict(\n        showbackground=True, # show axis background\n        backgroundcolor=\"rgb(204, 204, 204)\", # set background color to grey\n        gridcolor=\"rgb(255, 255, 255)\",       # set grid line color\n        zerolinecolor=\"rgb(255, 255, 255)\",   # set zero grid line color\n    )\n\n    # Make a layout object\n    layout = go.Layout(\n        title='plane _error', # set plot title\n        scene=go.Scene(  # axes are part of a 'scene' in 3d plots\n            xaxis=go.XAxis(axis), # set x-axis style\n            yaxis=go.YAxis(axis), # set y-axis style\n            zaxis=go.ZAxis(axis)),  # set z-axis style\n    )\n\n    # Make a figure object\n    fig = go.Figure(data=data_test1, layout=layout)\n\n    # Send to Plotly and show in notebook\n    #py.iplot(fig, filename='test1') # decommentare per plottare su server online\n    plot(fig)\n    iplot(fig)",
      "execution_count": 4,
      "outputs": []
    },
    {
      "metadata": {
        "trusted": true
      },
      "cell_type": "code",
      "source": "def plot_9_plane(Z,Z_0,Z_1,Z_2,Z_3,Z_4,Z_5,Z_6,Z_7):\n    \n    \n\n    trace1 = go.Scatter3d(\n    x=data_orig[:,0],\n    y=data_orig[:,1],\n    z=data_orig[:,2],\n    mode='markers',\n    marker=dict(size=4, color='red', line=dict(color='black', width=0.5), opacity=0.85)\n)\n\n\n    trace2 = go.Surface(z=Z, x=X, y=Y, colorscale='RdBu', opacity=0.6)\n    trace3 = go.Surface(z=Z_0, x=X, y=Y, colorscale='Viridis', opacity=0.6,showscale=False,)\n    trace4 = go.Surface(z=Z_1, x=X, y=Y, colorscale='Viridis', opacity=0.6,showscale=False,)\n    trace5 = go.Surface(z=Z_2, x=X, y=Y, colorscale='Viridis', opacity=0.6,showscale=False,)\n    trace6 = go.Surface(z=Z_3, x=X, y=Y, colorscale='Viridis', opacity=0.6,showscale=False,)\n    trace7 = go.Surface(z=Z_4, x=X, y=Y, colorscale='Viridis', opacity=0.6,showscale=False,)\n    trace8 = go.Surface(z=Z_5, x=X, y=Y, colorscale='Viridis', opacity=0.6,showscale=False,)\n    trace9 = go.Surface(z=Z_6, x=X, y=Y, colorscale='Viridis', opacity=0.6,showscale=False,)\n    trace10 = go.Surface(z=Z_7, x=X, y=Y, colorscale='Viridis', opacity=0.6,showscale=False,)\n    #best_fit_plane = trace3\n    # Package the trace dictionary into a data object\n    data_test1 = go.Data([ trace1, trace2,trace3,trace4,trace5, trace6,trace7,trace8,trace9, trace10])\n\n    # Dictionary of style options for all axes\n    axis = dict(\n        showbackground=True, # show axis background\n        backgroundcolor=\"rgb(204, 204, 204)\", # set background color to grey\n        gridcolor=\"rgb(255, 255, 255)\",       # set grid line color\n        zerolinecolor=\"rgb(255, 255, 255)\",   # set zero grid line color\n    )\n\n    # Make a layout object\n    layout = go.Layout(\n        title='plane _error', # set plot title\n        scene=go.Scene(  # axes are part of a 'scene' in 3d plots\n            xaxis=go.XAxis(axis), # set x-axis style\n            yaxis=go.YAxis(axis), # set y-axis style\n            zaxis=go.ZAxis(axis)),  # set z-axis style\n    )\n\n    # Make a figure object\n    fig = go.Figure(data=data_test1, layout=layout)\n\n    # Send to Plotly and show in notebook\n    #py.iplot(fig, filename='test1') # decommentare per plottare su server online\n    plot(fig)\n    iplot(fig)",
      "execution_count": 5,
      "outputs": []
    },
    {
      "metadata": {
        "tags": [
          "import"
        ],
        "trusted": true
      },
      "cell_type": "code",
      "source": "# IMPORTANTE ATTENZIONE OCCORRE CONVERTIRE IL FILE DIINGRESSO DEI PUNTI\n# IN COORDINATE PIANE METRICHE \n\nimport pandas as pd\nimport numpy as np\nimport scipy.linalg\nfrom mpl_toolkits.mplot3d import Axes3D\nimport matplotlib.pyplot as plt\nimport datetime\nfrom shapely.geometry import Point\nfrom geopandas import GeoDataFrame\n\n\n##################################error\nfrom uncertainties import ufloat\nfrom uncertainties.umath import *  # sin(), etc.\nimport uncertainties.umath as umath\nimport uncertainties.unumpy  as unumpy\nimport math\n\n\nimport mplstereonet\n#from mpl_toolkits.basemap import pyproj\n#from mpl_toolkits.basemap import Basemap\nfrom pyproj import Proj, transform\n###################################plotly_block###################################################### \n# Import plotly package online####################\nimport plotly\n#plotly.tools.set_credentials_file(username='davide.schenone', api_key='WBSgVI0FXgSIRecK2cHU')\nimport plotly.graph_objs as go\n# Check ploltly version\nplotly.__version__\n\n#plotly offline###############\nfrom plotly import __version__\nfrom plotly.offline import download_plotlyjs, init_notebook_mode, plot, iplot\nfrom plotly.graph_objs import *\ninit_notebook_mode(connected=True) #attivando o disattivando questa riga si ottiene un plot \n                                   #contestuale rispettivamente in notebook oppure su un html\nimport statsmodels.api as sm  #https://www.statsmodels.org/stable/regression.html\n    \n# To communicate with Plotly's server, sign in with credentials file\n#import plotly.plotly as py\n################################################################################################\n\nfrom pandas import ExcelWriter\nfrom pandas import ExcelFile\n# Create data with x and y random over [-2, 2], and z a Gaussian function of x and y.\n#np.random.seed(12345)\n#x = 2 * (np.random.random(500) - 0.5)\n#y = 2 * (np.random.random(500) - 0.5)\n\n#def f(x, y):\n #   return np.exp(-(x + y ** 2))\n\n#z = f(x, y)\n\n#imposto i dati\n#importa il file originale\n#df = pd.read_csv('Saorge_Taggia_erh_erz_prof.csv', sep='\\t', names=['y', 'x','z','a','b'])\n\n#importa il file convertito con convergo\ndf = pd.read_excel('terremoti_santo.xlsx', sheet_name='Foglio1')\n\n\ndf['z'] = df['Prof corr']  #creo il campo z profondità con valori negativi\n\n\ndf['Data'] = df['Data'].astype(str).str.zfill(6) #riempie la mancanza dello zero nei primi valori\ndf['Data'] =  pd.to_datetime(df['Data'],  format='%y%m%d')\n#df['Ora'] =  pd.to_time(df['Ora'],  format='%H%M')\n#creo una colonna con  la differenza in giorni tra la data e una posta abbastanza indietro nel passato\ndf['Deltatime'] = df['Data'] - datetime.date(1989,1,1)\ndf['Deltatime'] = df['Deltatime'].astype(datetime.timedelta).map(lambda x: np.nan if pd.isnull(x) else x.days)\n\n#converto le coordinate wgs 84 in UTM epsg 3003 Gauss-Boaga \nx1 = np.array(df['Longit.'])\ny1 = np.array(df['Latitud.'])\n\n\ninProj = Proj(init='epsg:4326')\noutProj = Proj(init='epsg:3003')\nx2,y2 = transform(inProj,outProj, x1, y1)\n\ndf['x'] = x2\ndf['y'] = y2\n\n#con questo posso fare dei cluster temporali\n#IMPOSTO I FILTRI\n\n#df_filter = df.query('Erh<1 and Erz<4') #imposto i parametri di filtro sugli errori orizzontali e verticali\n\n\n#df_filter = df.query('<Deltatime<') #imposto il filtro sulla data\n\n#imposto i pesi per il calcolo del piano da utilizzare in caso di regressione lineare pesata\n\ndf['weight_calc'] = df['Nf']/24 - 0.25\ndef weight(df):\n    if df['Nf'] <=6 :\n        return 0\n    \n    elif  df['Nf'] > 6 and df['Nf']  < 30   :\n        return df['weight_calc']\n            \n    elif  df['Nf'] >= 30 :\n        return 1\n\ndf['weights'] =  df.apply(weight, axis=1) \n \n\n    \ndf_filter = df\n",
      "execution_count": 6,
      "outputs": [
        {
          "output_type": "error",
          "ename": "ModuleNotFoundError",
          "evalue": "No module named 'stereonet_axes'",
          "traceback": [
            "\u001b[0;31m---------------------------------------------------------------------------\u001b[0m",
            "\u001b[0;31mModuleNotFoundError\u001b[0m                       Traceback (most recent call last)",
            "\u001b[0;32m<ipython-input-6-1bbee88fc040>\u001b[0m in \u001b[0;36m<module>\u001b[0;34m\u001b[0m\n\u001b[1;32m     20\u001b[0m \u001b[0;34m\u001b[0m\u001b[0m\n\u001b[1;32m     21\u001b[0m \u001b[0;34m\u001b[0m\u001b[0m\n\u001b[0;32m---> 22\u001b[0;31m \u001b[0;32mimport\u001b[0m \u001b[0mmplstereonet\u001b[0m\u001b[0;34m\u001b[0m\u001b[0m\n\u001b[0m\u001b[1;32m     23\u001b[0m \u001b[0;31m#from mpl_toolkits.basemap import pyproj\u001b[0m\u001b[0;34m\u001b[0m\u001b[0;34m\u001b[0m\u001b[0m\n\u001b[1;32m     24\u001b[0m \u001b[0;31m#from mpl_toolkits.basemap import Basemap\u001b[0m\u001b[0;34m\u001b[0m\u001b[0;34m\u001b[0m\u001b[0m\n",
            "\u001b[0;32m~/anaconda3_501/lib/python3.6/site-packages/mplstereonet/__init__.py\u001b[0m in \u001b[0;36m<module>\u001b[0;34m\u001b[0m\n\u001b[0;32m----> 1\u001b[0;31m \u001b[0;32mfrom\u001b[0m \u001b[0mstereonet_axes\u001b[0m \u001b[0;32mimport\u001b[0m \u001b[0mStereonetAxes\u001b[0m\u001b[0;34m\u001b[0m\u001b[0m\n\u001b[0m\u001b[1;32m      2\u001b[0m \u001b[0;32mfrom\u001b[0m \u001b[0mstereonet_math\u001b[0m \u001b[0;32mimport\u001b[0m \u001b[0mpole\u001b[0m\u001b[0;34m,\u001b[0m \u001b[0mplane\u001b[0m\u001b[0;34m,\u001b[0m \u001b[0mline\u001b[0m\u001b[0;34m,\u001b[0m \u001b[0mrake\u001b[0m\u001b[0;34m,\u001b[0m \u001b[0mplunge_bearing2pole\u001b[0m\u001b[0;34m\u001b[0m\u001b[0m\n\u001b[1;32m      3\u001b[0m \u001b[0;32mfrom\u001b[0m \u001b[0mstereonet_math\u001b[0m \u001b[0;32mimport\u001b[0m \u001b[0mgeographic2pole\u001b[0m\u001b[0;34m,\u001b[0m \u001b[0mgeographic2plunge_bearing\u001b[0m\u001b[0;34m\u001b[0m\u001b[0m\n\u001b[1;32m      4\u001b[0m \u001b[0;32mfrom\u001b[0m \u001b[0mstereonet_math\u001b[0m \u001b[0;32mimport\u001b[0m \u001b[0mxyz2stereonet\u001b[0m\u001b[0;34m,\u001b[0m \u001b[0mstereonet2xyz\u001b[0m\u001b[0;34m\u001b[0m\u001b[0m\n\u001b[1;32m      5\u001b[0m \u001b[0;32mfrom\u001b[0m \u001b[0mstereonet_math\u001b[0m \u001b[0;32mimport\u001b[0m \u001b[0mnormal2pole\u001b[0m\u001b[0;34m,\u001b[0m \u001b[0mvector2plunge_bearing\u001b[0m\u001b[0;34m\u001b[0m\u001b[0m\n",
            "\u001b[0;31mModuleNotFoundError\u001b[0m: No module named 'stereonet_axes'"
          ]
        }
      ]
    },
    {
      "metadata": {},
      "cell_type": "markdown",
      "source": "# Clustering"
    },
    {
      "metadata": {
        "trusted": true
      },
      "cell_type": "code",
      "source": "coords = df_filter.as_matrix(columns=['Deltatime'])\n\nfrom sklearn.cluster import DBSCAN\nimport numpy as np\n#standard eps=70 min_samples = 10\ndb = DBSCAN(eps=70, min_samples=10).fit(coords)\nlabels = db.labels_\nfrom collections import Counter\n\n\ndf_filter = df_filter.assign(Classe = labels)\nprint(Counter(labels))\n#filtro la label di interesse\ndf_cluster = df_filter[df_filter['Classe'] == 0] # <=========================\n\n#################################################\ndf_filter_2 = df_cluster\ncoords_2 = df_cluster.as_matrix(columns=['x','y','z'])\n\nfrom sklearn.cluster import DBSCAN\nimport numpy as np\n#base eps 3000 min_samples 5\ndb = DBSCAN(eps=3000, min_samples=5).fit(coords_2)\nlabels_2 = db.labels_\nfrom collections import Counter\n\n\ndf_filter_2 = df_filter_2.assign(Classe_spaziale = labels_2)\nprint(Counter(labels_2))\n\n#filtro la label di interesse\ndf_cluster_2 = df_filter_2[df_filter_2['Classe_spaziale'] == 0]  # <=========================",
      "execution_count": null,
      "outputs": []
    },
    {
      "metadata": {},
      "cell_type": "markdown",
      "source": "# imposto i dati "
    },
    {
      "metadata": {
        "trusted": true
      },
      "cell_type": "code",
      "source": "#importo il file depurato degli outlayer:\n#df = pd.read_csv('taggia_saorge_ripulita_outlier.csv', sep=',', names=['x', 'y','z'])\n\nx = df_cluster_2['x']  \n\ny = df_cluster_2['y']   \n\nz = df_cluster_2['z']\n\nW = df_cluster_2['weights']\n\n\ndata_orig =  df_cluster_2.as_matrix(columns=['x','y','z'])",
      "execution_count": null,
      "outputs": []
    },
    {
      "metadata": {},
      "cell_type": "markdown",
      "source": "# Minimi quadrati"
    },
    {
      "metadata": {
        "trusted": true
      },
      "cell_type": "code",
      "source": "\nA_ = np.c_[data_orig[:,0], data_orig[:,1], np.ones(data_orig.shape[0])]\nL = data_orig[:,2]\n\nwls_model = sm.WLS(L,A_,W)\nwls_result = wls_model.fit()\n\nprint(wls_result.summary())\nprint(wls_result.conf_int())\n\n\nx1,x2,const= wls_result.params\n# x1_err, x2_err, const_err = wls_result.conf_int() prima versione prendeva in considerazione intervallo di confidenza\nx1_err, x2_err, const_err = wls_result.bse\n\n\nx1_err_max = x1 + x1_err\nx2_err_max = x2 + x2_err\nconst_err_max = const + const_err\n\n\nx1_err_min = x1 - x1_err\nx2_err_min = x2 -  x2_err\nconst_err_min = const - const_err",
      "execution_count": null,
      "outputs": []
    },
    {
      "metadata": {
        "trusted": true
      },
      "cell_type": "code",
      "source": "print(wls_result.bse)",
      "execution_count": null,
      "outputs": []
    },
    {
      "metadata": {
        "trusted": true
      },
      "cell_type": "code",
      "source": "",
      "execution_count": null,
      "outputs": []
    },
    {
      "metadata": {
        "trusted": true
      },
      "cell_type": "code",
      "source": "",
      "execution_count": null,
      "outputs": []
    },
    {
      "metadata": {
        "trusted": true
      },
      "cell_type": "code",
      "source": "\n",
      "execution_count": null,
      "outputs": []
    },
    {
      "metadata": {
        "trusted": true
      },
      "cell_type": "code",
      "source": "A=x1\nB=x2\nD=const\nC_ = -1\n\n\nA = ufloat(A, 2.32031598e-01)  # x = 1+/-0.1\nB = ufloat(B, 2.45795013e-01)\nD = ufloat(D, 1.45839563e+06)\nC_= ufloat(C_, 0)\n\n\n\n\n\n    #calcolo E\nE=umath.sqrt(A**2 + B**2 + 1)\n\n#calcolo i coseni\ncos_a = A/E\n\ncos_b = B/E\n\ncos_cp = C_/E  #gamma_p\n\n\ncos_c = unumpy.cos((math.pi/2) + unumpy.arccos(C_/E))   #controllare se è corretto \n\n#calcolo la direzione teta del vettore, il coseni direttori danno la direzione del vettore occorrre aggiungere 90°\nteta_primo = unumpy.arctan(cos_a/cos_b)   #espresso in radianti\nteta_deg = (teta_primo*180)/np.pi \n\n#calcolo della direzione della massima pendenza sul piano\n#dip_direction = teta_deg \n\n#calcolo l'immersione dip angolo tra la verticale e il piano\ndip_vert = unumpy.arcsin(-1*cos_c)\ndip_deg = (dip_vert*180)/np.pi\n\n#calcolo l'immersione dip\ndip = dip_deg\n#occorre orientare correttamente il dip_direction\n#cond_1 = dip_direction = teta_deg\n#cond_2 = dip_direction = teta_deg + 180\n#cond_3 = dip_direction =  teta_deg + 360\n\n#def orientation(cos_a,cos_b):\n\nif cos_a > 0 and cos_b > 0:                \n    dip_direction = teta_deg\n    if cos_cp <0:\n        dip_direction =  dip_direction + 180\n\nif  cos_a > 0 and cos_b < 0:\n    dip_direction = teta_deg + 180\n    if cos_cp <0:\n        dip_direction =  dip_direction + 180\n\n\nif  cos_a < 0 and cos_b < 0:\n    dip_direction = teta_deg + 180\n    if cos_cp <0:\n        dip_direction =  dip_direction - 180\n\n\nif  cos_a < 0 and cos_b > 0:\n    dip_direction =  teta_deg + 360\n    if cos_cp <0:\n        dip_direction =  dip_direction - 180\n\n\"\"\"creo l'array per il plotaggio su stereogramma\nplot_dip_direction = 0\nplot_dip = 0\nplot_dip_direction = np.append(plot_dip_direction, dip_direction)\nplot_dip = np.append(plot_dip, dip)\nprint(\"dip_direction= %f ; dip= %f\" % (dip_direction, dip))\nprint(cos_a, cos_b)\nprint('##################################################')\nprint(teta_deg)\noutput = \"teta= %f ; dip= %f\" % (dip_direction, dip)\nfile = open(\"giacitura_cluster_xx_plane.txt\",\"w\")\nfile.write(output)\nfile.close()\n\ndaframe_cluster_xx = pd.DataFrame.to_csv(df_cluster_2)\nfile = open(\"daframe_cluster_xx_plane.csv\",\"w\")\nfile.write(daframe_cluster_xx)\nfile.close()\n\n#salva i risultati su di un file shape\ngeometry = [Point(xy) for xy in zip(df_cluster_2.x , df_cluster_2.y)]\ndf_shape = df_cluster_2.drop(['x', 'y','Ora', 'Data', 'Sec'], axis=1)\ncrs = {'init': 'epsg:3003'}\ngdf = GeoDataFrame( df_shape, crs=crs, geometry=geometry)   #df_shape,\ngdf.to_file(driver = 'ESRI Shapefile', filename= \"result_xx_plane.shp\" )\n\n\n\nstrike = plot_dip_direction - 90 \ndip =  plot_dip\nfig = plt.figure()\nax = fig.add_subplot(111, projection='stereonet')\nax.plane(strike, dip)\nax.pole(strike, dip ,markersize=5)\nax.grid()\nplt.show()   \"\"\"\n\n\nprint(dip)\nprint(dip_direction)",
      "execution_count": null,
      "outputs": []
    },
    {
      "metadata": {
        "trusted": true
      },
      "cell_type": "code",
      "source": "A=x1\nB=x2\nC_=-1\nD=const\n\nprint(A,B,C_,D)\npiano(A,B,C_,D)",
      "execution_count": null,
      "outputs": []
    },
    {
      "metadata": {
        "trusted": true
      },
      "cell_type": "code",
      "source": "A=x1\nB=x2\nC_=-1\nD=const\n\n\npiano(A,B,C_,D)\nprint(A,B,C_,D)",
      "execution_count": null,
      "outputs": []
    },
    {
      "metadata": {
        "trusted": true
      },
      "cell_type": "code",
      "source": "A=x1_err_max\nB=x2_err_max\nC_=-1\nD=const_err_max\n\nprint(A,B,C_,D)\npiano(A,B,C_,D)",
      "execution_count": null,
      "outputs": []
    },
    {
      "metadata": {
        "trusted": true
      },
      "cell_type": "code",
      "source": "A=x1_err_min\nB=x2_err_min\nC_=-1\nD=const_err_min\n\nprint(A,B,C_,D)\npiano(A,B,C_,D)",
      "execution_count": null,
      "outputs": []
    },
    {
      "metadata": {},
      "cell_type": "markdown",
      "source": "# Definisco le Z"
    },
    {
      "metadata": {
        "trusted": true
      },
      "cell_type": "code",
      "source": "mn = np.min(data_orig, axis=0)\nmx = np.max(data_orig, axis=0)\nX,Y = np.meshgrid(np.linspace(mn[0], mx[0], 20), np.linspace( mx[1],mn[1], 20))\n\n\nz_err_1 = x1_err_max*X + x2_err_max*Y + const_err_max\nz_err_2 = x1_err_min*X + x2_err_min*Y + const_err_min\n\n\nZ= wls_result.params[0]*X + wls_result.params[1]*Y + wls_result.params[2]",
      "execution_count": null,
      "outputs": []
    },
    {
      "metadata": {
        "trusted": true
      },
      "cell_type": "code",
      "source": "",
      "execution_count": null,
      "outputs": []
    },
    {
      "metadata": {
        "trusted": true
      },
      "cell_type": "code",
      "source": "\n",
      "execution_count": null,
      "outputs": []
    },
    {
      "metadata": {
        "trusted": true
      },
      "cell_type": "code",
      "source": "mn",
      "execution_count": null,
      "outputs": []
    },
    {
      "metadata": {
        "trusted": true
      },
      "cell_type": "code",
      "source": "wls_result.params[0]",
      "execution_count": null,
      "outputs": []
    },
    {
      "metadata": {
        "trusted": true
      },
      "cell_type": "code",
      "source": "",
      "execution_count": null,
      "outputs": []
    },
    {
      "metadata": {
        "trusted": true
      },
      "cell_type": "code",
      "source": "plot_3d_plane(Z)",
      "execution_count": null,
      "outputs": []
    },
    {
      "metadata": {
        "trusted": true
      },
      "cell_type": "code",
      "source": "# creo una matrice dei coefficenti del piano attraverso la combinazione dei dell'errore dei coeficienti\nimport itertools\ncoef_matrix_err = []\nfor x in itertools.product([\"A+\", \"A-\"], [\"B+\",  \"B-\"],[\"C+\",\"C-\"]):\n    coef_matrix_err.append(x) \nprint(coef_matrix_err)",
      "execution_count": null,
      "outputs": []
    },
    {
      "metadata": {
        "trusted": true
      },
      "cell_type": "code",
      "source": "# creo una matrice dei coefficenti del piano attraverso la combinazione dei dell'errore dei coeficienti\n\nimport itertools\ncoef_matrix_err = []\nfor x in itertools.product([x1_err_max, x1_err_min], [x2_err_max,  x2_err_min],[const_err_max,const_err_min]):\n    coef_matrix_err.append(x) \nprint(coef_matrix_err)",
      "execution_count": null,
      "outputs": []
    },
    {
      "metadata": {
        "trusted": true
      },
      "cell_type": "code",
      "source": "",
      "execution_count": null,
      "outputs": []
    },
    {
      "metadata": {
        "trusted": true
      },
      "cell_type": "code",
      "source": "A_ = globals()\nB_ = globals()\nD_ = globals()\nZ_ = globals()\n\nfor x in range(0,8):\n    A_['A_%d' % x],B_['B_%d' % x],D_['D_%d' % x] = coef_matrix_err[x]\n    \n    Z_['Z_%d' % x] = A_['A_%d' % x]*X + B_['B_%d' % x]*Y + D_['D_%d' % x]",
      "execution_count": null,
      "outputs": []
    },
    {
      "metadata": {
        "trusted": true
      },
      "cell_type": "code",
      "source": "plot_9_plane(Z,Z_0,Z_1,Z_2,Z_3,Z_4,Z_5,Z_6,Z_7)",
      "execution_count": null,
      "outputs": []
    },
    {
      "metadata": {
        "trusted": true
      },
      "cell_type": "code",
      "source": "",
      "execution_count": null,
      "outputs": []
    },
    {
      "metadata": {
        "trusted": true
      },
      "cell_type": "code",
      "source": "",
      "execution_count": null,
      "outputs": []
    },
    {
      "metadata": {
        "trusted": true
      },
      "cell_type": "code",
      "source": "",
      "execution_count": null,
      "outputs": []
    },
    {
      "metadata": {
        "trusted": true
      },
      "cell_type": "code",
      "source": "",
      "execution_count": null,
      "outputs": []
    }
  ],
  "metadata": {
    "kernelspec": {
      "name": "python36",
      "display_name": "Python 3.6",
      "language": "python"
    },
    "language_info": {
      "mimetype": "text/x-python",
      "nbconvert_exporter": "python",
      "name": "python",
      "pygments_lexer": "ipython3",
      "version": "3.6.6",
      "file_extension": ".py",
      "codemirror_mode": {
        "version": 3,
        "name": "ipython"
      }
    }
  },
  "nbformat": 4,
  "nbformat_minor": 2
}