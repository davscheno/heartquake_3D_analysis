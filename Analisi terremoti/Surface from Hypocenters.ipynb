{
  "cells": [
    {
      "metadata": {
        "trusted": true
      },
      "cell_type": "code",
      "source": "!pip install geopandas\n!pip install folium\n!pip install elevation\n!pip install pyproj\n!pip install mplstereonet\n",
      "execution_count": 1,
      "outputs": [
        {
          "output_type": "stream",
          "text": "Requirement already satisfied: geopandas in /home/nbuser/anaconda3_501/lib/python3.6/site-packages (0.6.2)\nRequirement already satisfied: fiona in /home/nbuser/anaconda3_501/lib/python3.6/site-packages (from geopandas) (1.8.11)\nRequirement already satisfied: shapely in /home/nbuser/anaconda3_501/lib/python3.6/site-packages (from geopandas) (1.6.4.post2)\nRequirement already satisfied: pandas>=0.23.0 in /home/nbuser/anaconda3_501/lib/python3.6/site-packages (from geopandas) (0.23.4)\nRequirement already satisfied: pyproj in /home/nbuser/anaconda3_501/lib/python3.6/site-packages (from geopandas) (2.4.1)\nRequirement already satisfied: munch in /home/nbuser/anaconda3_501/lib/python3.6/site-packages (from fiona->geopandas) (2.5.0)\nRequirement already satisfied: six>=1.7 in /home/nbuser/anaconda3_501/lib/python3.6/site-packages (from fiona->geopandas) (1.11.0)\nRequirement already satisfied: attrs>=17 in /home/nbuser/anaconda3_501/lib/python3.6/site-packages (from fiona->geopandas) (18.2.0)\nRequirement already satisfied: click<8,>=4.0 in /home/nbuser/anaconda3_501/lib/python3.6/site-packages (from fiona->geopandas) (7.0)\nRequirement already satisfied: click-plugins>=1.0 in /home/nbuser/anaconda3_501/lib/python3.6/site-packages (from fiona->geopandas) (1.1.1)\nRequirement already satisfied: cligj>=0.5 in /home/nbuser/anaconda3_501/lib/python3.6/site-packages (from fiona->geopandas) (0.5.0)\nRequirement already satisfied: pytz>=2011k in /home/nbuser/anaconda3_501/lib/python3.6/site-packages (from pandas>=0.23.0->geopandas) (2019.3)\nRequirement already satisfied: numpy>=1.9.0 in /home/nbuser/anaconda3_501/lib/python3.6/site-packages (from pandas>=0.23.0->geopandas) (1.16.2)\nRequirement already satisfied: python-dateutil>=2.5.0 in /home/nbuser/anaconda3_501/lib/python3.6/site-packages (from pandas>=0.23.0->geopandas) (2.8.1)\nRequirement already satisfied: folium in /home/nbuser/anaconda3_501/lib/python3.6/site-packages (0.2.1)\nRequirement already satisfied: Jinja2 in /home/nbuser/anaconda3_501/lib/python3.6/site-packages (from folium) (2.10)\nRequirement already satisfied: MarkupSafe>=0.23 in /home/nbuser/anaconda3_501/lib/python3.6/site-packages (from Jinja2->folium) (1.1.0)\nCollecting elevation\n  Downloading https://files.pythonhosted.org/packages/b8/9a/e55570fa28fbe3106da6ac9a5df0156c39647551171e10de45624069a917/elevation-1.0.6-py2.py3-none-any.whl\nCollecting click<7.0\n\u001b[?25l  Downloading https://files.pythonhosted.org/packages/34/c1/8806f99713ddb993c5366c362b2f908f18269f8d792aff1abfd700775a77/click-6.7-py2.py3-none-any.whl (71kB)\n\u001b[K     |████████████████████████████████| 71kB 1.3MB/s  eta 0:00:01\n\u001b[?25hRequirement already satisfied: future in /home/nbuser/anaconda3_501/lib/python3.6/site-packages (from elevation) (0.16.0)\nCollecting fasteners\n  Downloading https://files.pythonhosted.org/packages/18/bd/55eb2d6397b9c0e263af9d091ebdb756b15756029b3cededf6461481bc63/fasteners-0.15-py2.py3-none-any.whl\nRequirement already satisfied: appdirs in /home/nbuser/anaconda3_501/lib/python3.6/site-packages (from elevation) (1.4.3)\nCollecting monotonic>=0.1\n  Downloading https://files.pythonhosted.org/packages/ac/aa/063eca6a416f397bd99552c534c6d11d57f58f2e94c14780f3bbf818c4cf/monotonic-1.5-py2.py3-none-any.whl\nRequirement already satisfied: six in /home/nbuser/anaconda3_501/lib/python3.6/site-packages (from fasteners->elevation) (1.11.0)\n\u001b[31mERROR: papermill 1.2.1 has requirement tqdm>=4.32.2, but you'll have tqdm 4.26.0 which is incompatible.\u001b[0m\nInstalling collected packages: click, monotonic, fasteners, elevation\n  Found existing installation: Click 7.0\n    Uninstalling Click-7.0:\n      Successfully uninstalled Click-7.0\nSuccessfully installed click-6.7 elevation-1.0.6 fasteners-0.15 monotonic-1.5\nRequirement already satisfied: pyproj in /home/nbuser/anaconda3_501/lib/python3.6/site-packages (2.4.1)\nRequirement already satisfied: mplstereonet in /home/nbuser/anaconda3_501/lib/python3.6/site-packages (0.5)\nRequirement already satisfied: numpy>=1.1 in /home/nbuser/anaconda3_501/lib/python3.6/site-packages (from mplstereonet) (1.16.2)\nRequirement already satisfied: matplotlib>=1.1 in /home/nbuser/anaconda3_501/lib/python3.6/site-packages (from mplstereonet) (3.0.0)\nRequirement already satisfied: cycler>=0.10 in /home/nbuser/anaconda3_501/lib/python3.6/site-packages (from matplotlib>=1.1->mplstereonet) (0.10.0)\nRequirement already satisfied: kiwisolver>=1.0.1 in /home/nbuser/anaconda3_501/lib/python3.6/site-packages (from matplotlib>=1.1->mplstereonet) (1.0.1)\nRequirement already satisfied: pyparsing!=2.0.4,!=2.1.2,!=2.1.6,>=2.0.1 in /home/nbuser/anaconda3_501/lib/python3.6/site-packages (from matplotlib>=1.1->mplstereonet) (2.3.0)\nRequirement already satisfied: python-dateutil>=2.1 in /home/nbuser/anaconda3_501/lib/python3.6/site-packages (from matplotlib>=1.1->mplstereonet) (2.8.1)\nRequirement already satisfied: six in /home/nbuser/anaconda3_501/lib/python3.6/site-packages (from cycler>=0.10->matplotlib>=1.1->mplstereonet) (1.11.0)\nRequirement already satisfied: setuptools in /home/nbuser/anaconda3_501/lib/python3.6/site-packages (from kiwisolver>=1.0.1->matplotlib>=1.1->mplstereonet) (41.6.0)\n",
          "name": "stdout"
        }
      ]
    },
    {
      "metadata": {
        "trusted": true
      },
      "cell_type": "code",
      "source": "#from: http://geologyandpython.com/dem-processing.html\n# https://gis.stackexchange.com/questions/116319/plotting-elevation-maps-and-shaded-relief-images-from-latitude-longitude-and-e\nimport numpy as np\nimport pandas as pd\nimport geopandas as gpd\nimport pyproj\nimport folium\nfrom shapely import geometry\nimport matplotlib.pyplot as plt\nimport elevation\nimport os\nimport datetime\n%matplotlib inline",
      "execution_count": 2,
      "outputs": []
    },
    {
      "metadata": {
        "trusted": true
      },
      "cell_type": "code",
      "source": "import plotly.plotly as py\nimport plotly.graph_objs as go\n\n\n",
      "execution_count": 3,
      "outputs": [
        {
          "output_type": "error",
          "ename": "ImportError",
          "evalue": "\nThe plotly.plotly module is deprecated,\nplease install the chart-studio package and use the\nchart_studio.plotly module instead. \n",
          "traceback": [
            "\u001b[0;31m---------------------------------------------------------------------------\u001b[0m",
            "\u001b[0;31mImportError\u001b[0m                               Traceback (most recent call last)",
            "\u001b[0;32m<ipython-input-3-509df4791deb>\u001b[0m in \u001b[0;36m<module>\u001b[0;34m\u001b[0m\n\u001b[0;32m----> 1\u001b[0;31m \u001b[0;32mimport\u001b[0m \u001b[0mplotly\u001b[0m\u001b[0;34m.\u001b[0m\u001b[0mplotly\u001b[0m \u001b[0;32mas\u001b[0m \u001b[0mpy\u001b[0m\u001b[0;34m\u001b[0m\u001b[0m\n\u001b[0m\u001b[1;32m      2\u001b[0m \u001b[0;32mimport\u001b[0m \u001b[0mplotly\u001b[0m\u001b[0;34m.\u001b[0m\u001b[0mgraph_objs\u001b[0m \u001b[0;32mas\u001b[0m \u001b[0mgo\u001b[0m\u001b[0;34m\u001b[0m\u001b[0m\n\u001b[1;32m      3\u001b[0m \u001b[0;34m\u001b[0m\u001b[0m\n\u001b[1;32m      4\u001b[0m \u001b[0;34m\u001b[0m\u001b[0m\n",
            "\u001b[0;32m~/anaconda3_501/lib/python3.6/site-packages/plotly/plotly/__init__.py\u001b[0m in \u001b[0;36m<module>\u001b[0;34m\u001b[0m\n\u001b[1;32m      2\u001b[0m \u001b[0;32mfrom\u001b[0m \u001b[0m_plotly_future_\u001b[0m \u001b[0;32mimport\u001b[0m \u001b[0m_chart_studio_error\u001b[0m\u001b[0;34m\u001b[0m\u001b[0m\n\u001b[1;32m      3\u001b[0m \u001b[0;34m\u001b[0m\u001b[0m\n\u001b[0;32m----> 4\u001b[0;31m \u001b[0m_chart_studio_error\u001b[0m\u001b[0;34m(\u001b[0m\u001b[0;34m\"plotly\"\u001b[0m\u001b[0;34m)\u001b[0m\u001b[0;34m\u001b[0m\u001b[0m\n\u001b[0m",
            "\u001b[0;32m~/anaconda3_501/lib/python3.6/site-packages/_plotly_future_/__init__.py\u001b[0m in \u001b[0;36m_chart_studio_error\u001b[0;34m(submodule)\u001b[0m\n\u001b[1;32m     47\u001b[0m \u001b[0mchart_studio\u001b[0m\u001b[0;34m.\u001b[0m\u001b[0;34m{\u001b[0m\u001b[0msubmodule\u001b[0m\u001b[0;34m}\u001b[0m \u001b[0mmodule\u001b[0m \u001b[0minstead\u001b[0m\u001b[0;34m.\u001b[0m\u001b[0;34m\u001b[0m\u001b[0m\n\u001b[1;32m     48\u001b[0m \"\"\".format(\n\u001b[0;32m---> 49\u001b[0;31m             \u001b[0msubmodule\u001b[0m\u001b[0;34m=\u001b[0m\u001b[0msubmodule\u001b[0m\u001b[0;34m\u001b[0m\u001b[0m\n\u001b[0m\u001b[1;32m     50\u001b[0m         )\n\u001b[1;32m     51\u001b[0m     )\n",
            "\u001b[0;31mImportError\u001b[0m: \nThe plotly.plotly module is deprecated,\nplease install the chart-studio package and use the\nchart_studio.plotly module instead. \n"
          ]
        }
      ]
    },
    {
      "metadata": {
        "trusted": true
      },
      "cell_type": "code",
      "source": "import pandas as pd\nimport numpy as np\nimport scipy.linalg\nfrom mpl_toolkits.mplot3d import Axes3D\nimport matplotlib.pyplot as plt\nimport datetime\n\nimport mplstereonet\n#from mpl_toolkits.basemap import pyproj\n#from mpl_toolkits.basemap import Basemap\nfrom pyproj import Proj, transform\n###################################plotly_block###################################################### \n# Import plotly package online####################\nimport plotly\nplotly.tools.set_credentials_file(username='davide.schenone', api_key='WBSgVI0FXgSIRecK2cHU')\nimport plotly.graph_objs as go\n# Check ploltly version\nplotly.__version__\n\n#plotly offline###############\nfrom plotly import __version__\nfrom plotly.offline import download_plotlyjs, init_notebook_mode, plot, iplot\nfrom plotly.graph_objs import *\ninit_notebook_mode(connected=True) #attivando o disattivando questa riga si ottiene un plot \n                                   #contestuale rispettivamente in notebook oppure su un html\n\n# To communicate with Plotly's server, sign in with credentials file\nimport plotly.plotly as py\n################################################################################################\n\nfrom pandas import ExcelWriter\nfrom pandas import ExcelFile\n# Create data with x and y random over [-2, 2], and z a Gaussian function of x and y.\n#np.random.seed(12345)\n#x = 2 * (np.random.random(500) - 0.5)\n#y = 2 * (np.random.random(500) - 0.5)\n\n#def f(x, y):\n #   return np.exp(-(x + y ** 2))\n\n#z = f(x, y)\n\n#imposto i dati\n#importa il file originale\n#df = pd.read_csv('Saorge_Taggia_erh_erz_prof.csv', sep='\\t', names=['y', 'x','z','a','b'])\n\n#importa il file convertito con convergo\ndf = pd.read_excel('terremoti_santo.xlsx', sheet_name='Foglio1')\n\n\ndf['z'] = df['Prof corr']  #creo il campo z profondità con valori negativi\n\n\ndf['Data'] = df['Data'].astype(str).str.zfill(6) #riempie la mancanza dello zero nei primi valori\ndf['Data'] =  pd.to_datetime(df['Data'],  format='%y%m%d')\n#df['Ora'] =  pd.to_time(df['Ora'],  format='%H%M')\n#creo una colonna con  la differenza in giorni tra la data e una posta abbastanza indietro nel passato\ndf['Deltatime'] = df['Data'] - datetime.date(1989,1,1)\ndf['Deltatime'] = df['Deltatime'].astype(datetime.timedelta).map(lambda x: np.nan if pd.isnull(x) else x.days)\n\n#converto le coordinate wgs 84 in UTM epsg 3003 Gauss-Boaga \nx1 = np.array(df['Longit.'])\ny1 = np.array(df['Latitud.'])\n\n\ninProj = Proj(init='epsg:4326')\noutProj = Proj(init='epsg:3003')\nx2,y2 = transform(inProj,outProj, x1, y1)\n\ndf['x'] = x2\ndf['y'] = y2\n\n#con questo posso fare dei cluster temporali\n#IMPOSTO I FILTRI\n\n#df_filter = df.query('Erh<1 and Erz<4') #imposto i parametri di filtro sugli errori orizzontali e verticali\n\n\n#df_filter = df.query('<Deltatime<') #imposto il filtro sulla data\n\n#imposto i pesi per il calcolo del piano da utilizzare in caso di regressione lineare pesata\n\ndf['weight_calc'] = df['Nf']/24 - 0.25\ndef weight(df):\n    if df['Nf'] <=6 :\n        return 0\n    \n    elif  df['Nf'] > 6 and df['Nf']  < 30   :\n        return df['weight_calc']\n            \n    elif  df['Nf'] >= 30 :\n        return 1\n\ndf['weights'] =  df.apply(weight, axis=1) \n \n\n    \ndf_filter = df\n\n\ncoords = df_filter.as_matrix(columns=['Deltatime'])\n\nfrom sklearn.cluster import DBSCAN\nimport numpy as np\n\ndb = DBSCAN(eps=70, min_samples=10).fit(coords)\nlabels = db.labels_\nfrom collections import Counter\n\n\ndf_filter = df_filter.assign(Classe = labels)\nprint(Counter(labels))\n#filtro la label di interesse\ndf_cluster = df_filter[df_filter['Classe'] == 0]\n\n\n\ndf_filter_2 = df_cluster\ncoords_2 = df_cluster.as_matrix(columns=['x','y','z'])\n\nfrom sklearn.cluster import DBSCAN\nimport numpy as np\n#base eps 3000 min_samples 5\ndb = DBSCAN(eps=1500, min_samples=8).fit(coords_2)\nlabels_2 = db.labels_\nfrom collections import Counter\n\n\ndf_filter_2 = df_filter_2.assign(Classe_spaziale = labels_2)\nprint(Counter(labels_2))\n\n#filtro la label di interesse\ndf_cluster_2 = df_filter_2[df_filter_2['Classe_spaziale'] == 0]\n\n\n\nx = df_cluster_2['x']  \n    \ny = df_cluster_2['y']   \n    \nz = df_cluster_2['z']\n",
      "execution_count": null,
      "outputs": []
    },
    {
      "metadata": {
        "trusted": true
      },
      "cell_type": "code",
      "source": "",
      "execution_count": null,
      "outputs": []
    },
    {
      "metadata": {
        "trusted": true
      },
      "cell_type": "code",
      "source": "",
      "execution_count": null,
      "outputs": []
    },
    {
      "metadata": {
        "trusted": true
      },
      "cell_type": "code",
      "source": "\n",
      "execution_count": null,
      "outputs": []
    },
    {
      "metadata": {
        "trusted": true
      },
      "cell_type": "code",
      "source": "from mpl_toolkits.mplot3d.axes3d import *\nimport matplotlib.pyplot as plt\nfrom matplotlib import cm\nfig = plt.figure()\nax = Axes3D(fig)\nax.plot_surface(X, Y, Z, rstride=1, cstride=1, cmap=cm.jet,linewidth=1, antialiased=True)\nplt.show()",
      "execution_count": null,
      "outputs": []
    },
    {
      "metadata": {
        "trusted": true
      },
      "cell_type": "code",
      "source": "\n",
      "execution_count": null,
      "outputs": []
    },
    {
      "metadata": {
        "trusted": true
      },
      "cell_type": "code",
      "source": "trace2 = go.Surface(z=Z, x=X, y=Y, colorscale='Earth’', opacity=0.7)\n\n# Package the trace dictionary into a data object\ndata_test1 = go.Data([trace2])\n\n# Dictionary of style options for all axes\naxis = dict(\n    showbackground=True, # show axis background\n    backgroundcolor=\"rgb(204, 204, 204)\", # set background color to grey\n    gridcolor=\"rgb(255, 255, 255)\",       # set grid line color\n    zerolinecolor=\"rgb(255, 255, 255)\",   # set zero grid line color\n)\n\n# Make a layout object\nlayout = go.Layout(\n    title='1st-order (linear) plane', # set plot title\n    scene=go.Scene(  # axes are part of a 'scene' in 3d plots\n        xaxis=go.XAxis(axis), # set x-axis style\n        yaxis=go.YAxis(axis), # set y-axis style\n        zaxis=go.ZAxis(axis)),  # set z-axis style\n)\n\n# Make a figure object\nfig = go.Figure(data=data_test1, layout=layout)\n\n# Send to Plotly and show in notebook\npy.iplot(fig, filename='DTM')",
      "execution_count": null,
      "outputs": []
    },
    {
      "metadata": {
        "collapsed": true
      },
      "cell_type": "markdown",
      "source": "# best-fit quadratic curve (2nd-order)"
    },
    {
      "metadata": {
        "trusted": true
      },
      "cell_type": "code",
      "source": "# best-fit quadratic curve (2nd-order)\ndata =  df_cluster_2.as_matrix(columns=['x','y','z'])\n# regular grid covering the domain of the data\nmn = np.min(data, axis=0)\nmx = np.max(data, axis=0)\nX,Y = np.meshgrid(np.linspace(mn[0], mx[0], 20), np.linspace(mn[1], mx[1], 20))\nXX = X.flatten()\nYY = Y.flatten()\n\ntrace1 = go.Scatter3d(\n    x=data[:,0],\n    y=data[:,1],\n    z=data[:,2],\n    mode='markers',\n    marker=dict(size=4, color='red', line=dict(color='black', width=0.5), opacity=0.85)\n)\n\n\n\nA = np.c_[np.ones(data.shape[0]), data[:,:2], np.prod(data[:,:2], axis=1), data[:,:2]**2]\nC,_,_,_ = scipy.linalg.lstsq(A, data[:,2])\n    \n# evaluate it on a grid\nZ = np.dot(np.c_[np.ones(XX.shape), XX, YY, XX*YY, XX**2, YY**2], C).reshape(X.shape)\n\n# plot points and fitted surface using Matplotlib\nfig = plt.figure(figsize=(10, 10))\nax = fig.gca(projection='3d')\nax.plot_surface(X, Y, Z, rstride=1, cstride=1, alpha=0.2)\nax.scatter(data[:,0], data[:,1], data[:,2], c='r', s=50)\nplt.xlabel('X')\nplt.ylabel('Y')\nax.set_zlabel('Z')\nax.axis('equal')\nax.axis('tight')\n\n# plot points and fitted surface using Plotly\ntrace3 = go.Surface(\n    z=Z,  \n    x=X, \n    y=Y,\n    colorscale='RdBu',\n    opacity=0.55\n)\n\n# Package the trace dictionary into a data object\ndata_test3 = go.Data([trace1, trace3])\n\n# Make a layout object\nlayout = go.Layout(\n    title='2nd-order (quadratic) surface', # set plot title\n    scene=go.Scene(  # axes are part of a 'scene' in 3d plots\n        xaxis=go.XAxis(axis), # set x-axis style\n        yaxis=go.YAxis(axis), # set y-axis style\n        zaxis=go.ZAxis(axis)),  # set z-axis style\n)\n\n# Make a figure object\nfig = go.Figure(data=data_test3, layout=layout)\n\n# Send to Plotly and show in notebook\npy.iplot(fig, filename='test2')",
      "execution_count": null,
      "outputs": []
    },
    {
      "metadata": {
        "trusted": true
      },
      "cell_type": "code",
      "source": "",
      "execution_count": null,
      "outputs": []
    },
    {
      "metadata": {
        "trusted": false
      },
      "cell_type": "code",
      "source": "",
      "execution_count": null,
      "outputs": []
    }
  ],
  "metadata": {
    "kernelspec": {
      "name": "python36",
      "display_name": "Python 3.6",
      "language": "python"
    },
    "language_info": {
      "mimetype": "text/x-python",
      "nbconvert_exporter": "python",
      "name": "python",
      "pygments_lexer": "ipython3",
      "version": "3.6.6",
      "file_extension": ".py",
      "codemirror_mode": {
        "version": 3,
        "name": "ipython"
      }
    }
  },
  "nbformat": 4,
  "nbformat_minor": 2
}